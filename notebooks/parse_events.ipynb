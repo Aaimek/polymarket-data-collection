{
 "cells": [
  {
   "cell_type": "code",
   "execution_count": 4,
   "metadata": {},
   "outputs": [
    {
     "name": "stderr",
     "output_type": "stream",
     "text": [
      "/Users/nolanmulder/Library/Python/3.9/lib/python/site-packages/urllib3/__init__.py:35: NotOpenSSLWarning: urllib3 v2 only supports OpenSSL 1.1.1+, currently the 'ssl' module is compiled with 'LibreSSL 2.8.3'. See: https://github.com/urllib3/urllib3/issues/3020\n",
      "  warnings.warn(\n"
     ]
    }
   ],
   "source": [
    "import requests\n",
    "import json"
   ]
  },
  {
   "cell_type": "code",
   "execution_count": 5,
   "metadata": {},
   "outputs": [],
   "source": [
    "import sys\n",
    "from pathlib import Path\n",
    "sys.path.append(str(Path.cwd().parent))  # Adds the parent directory to Python path\n",
    "\n",
    "# Now you can import your schemas\n",
    "from message_processor.resources.schemas import Event, Market, Outcome  # Import the specific schemas you need"
   ]
  },
  {
   "cell_type": "code",
   "execution_count": 6,
   "metadata": {},
   "outputs": [],
   "source": [
    "r = requests.get(\"https://gamma-api.polymarket.com/events?limit=100&closed=false\")\n",
    "# r = requests.get(\"https://gamma-api.polymarket.com/markets?close=false\")\n",
    "response = r.json()"
   ]
  },
  {
   "cell_type": "code",
   "execution_count": 7,
   "metadata": {},
   "outputs": [],
   "source": [
    "event = response[0]"
   ]
  },
  {
   "cell_type": "markdown",
   "metadata": {},
   "source": [
    "## Create the event object"
   ]
  },
  {
   "cell_type": "code",
   "execution_count": 8,
   "metadata": {},
   "outputs": [
    {
     "data": {
      "text/plain": [
       "dict_keys(['id', 'ticker', 'slug', 'title', 'description', 'startDate', 'creationDate', 'endDate', 'image', 'icon', 'active', 'closed', 'archived', 'new', 'featured', 'restricted', 'liquidity', 'volume', 'createdAt', 'updatedAt', 'competitive', 'volume24hr', 'enableOrderBook', 'liquidityClob', 'commentCount', 'markets', 'tags', 'cyom', 'showAllOutcomes', 'showMarketImages', 'enableNegRisk', 'automaticallyActive', 'negRiskAugmented'])"
      ]
     },
     "execution_count": 8,
     "metadata": {},
     "output_type": "execute_result"
    }
   ],
   "source": [
    "event.keys()"
   ]
  },
  {
   "cell_type": "code",
   "execution_count": 56,
   "metadata": {},
   "outputs": [],
   "source": [
    "from message_processor.resources.schemas import Event, Market, Outcome, ClobReward"
   ]
  },
  {
   "cell_type": "code",
   "execution_count": 11,
   "metadata": {},
   "outputs": [],
   "source": [
    "result_dict = {\n",
    "        'id': event['id'],\n",
    "        'ticker': event['ticker'],\n",
    "        'slug': event['slug'],\n",
    "        'title': event['title'],\n",
    "        'description': event['description'],\n",
    "        'start_date': event['startDate'],\n",
    "        'creation_date': event['creationDate'],\n",
    "        'end_date': event['endDate'],\n",
    "        'image_url': event['image'],\n",
    "        'icon_url': event['icon'],\n",
    "        'active': event['active'],\n",
    "        'closed': event['closed'],\n",
    "        'archived': event['archived'],\n",
    "        'is_new': event['new'],\n",
    "        'featured': event['featured'],\n",
    "        'restricted': event['restricted'],\n",
    "        'liquidity': event['liquidity'],\n",
    "        'volume': event['volume'],\n",
    "        'created_at': event['createdAt'],\n",
    "        'updated_at': event['updatedAt'],\n",
    "        'competitive': event['competitive'],\n",
    "        'enable_order_book': event['enableOrderBook'],\n",
    "        'neg_risk': event['enableNegRisk'],\n",
    "        'neg_risk_market_id': None,\n",
    "        'comment_count': event['commentCount']\n",
    "    }"
   ]
  },
  {
   "cell_type": "code",
   "execution_count": 14,
   "metadata": {},
   "outputs": [
    {
     "data": {
      "text/plain": [
       "<message_processor.resources.schemas.event.Event at 0x10f4e9a60>"
      ]
     },
     "execution_count": 14,
     "metadata": {},
     "output_type": "execute_result"
    }
   ],
   "source": [
    "Event(**result_dict)"
   ]
  },
  {
   "cell_type": "markdown",
   "metadata": {},
   "source": [
    "## Create the market object"
   ]
  },
  {
   "cell_type": "code",
   "execution_count": 19,
   "metadata": {},
   "outputs": [],
   "source": [
    "markets = event['markets']\n",
    "market = markets[0]"
   ]
  },
  {
   "cell_type": "code",
   "execution_count": 21,
   "metadata": {},
   "outputs": [],
   "source": [
    "event_id = event['id']"
   ]
  },
  {
   "cell_type": "code",
   "execution_count": 27,
   "metadata": {},
   "outputs": [],
   "source": [
    "result_dict = {\n",
    "        'id': market['id'],\n",
    "        'event_id': event_id,\n",
    "        'question': market['question'],\n",
    "        'condition_id': market['conditionId'],\n",
    "        'slug': market['slug'],\n",
    "        'resolution_source': market['resolutionSource'],\n",
    "        'start_date': market['startDate'],\n",
    "        'end_date': market['endDate'],\n",
    "        'image_url': market['image'],\n",
    "        'icon_url': market['icon'],\n",
    "        'description': market['description'],\n",
    "        'volume': market['volume'],\n",
    "        'active': market['active'],\n",
    "        'closed': market['closed'],\n",
    "        'market_maker_address': market['marketMakerAddress'],\n",
    "        'created_at': market['createdAt'],\n",
    "        'updated_at': market['updatedAt'],\n",
    "        'closed_time': None,  # Not present in input dict\n",
    "        'is_new': market['new'],\n",
    "        'featured': market['featured'],\n",
    "        'submitted_by': market['submitted_by'],\n",
    "        'archived': market['archived'],\n",
    "        'resolved_by': market['resolvedBy'],\n",
    "        'restricted': market['restricted'],\n",
    "        'group_item_title': market['groupItemTitle'],\n",
    "        'group_item_threshold': market['groupItemThreshold'],\n",
    "        'question_id': market['questionID'],\n",
    "        'uma_end_date': None,  # Not present in input dict\n",
    "        'enable_order_book': market['enableOrderBook'],\n",
    "        'order_price_min_tick_size': market['orderPriceMinTickSize'],\n",
    "        'order_min_size': market['orderMinSize'],\n",
    "        'uma_resolution_status': None,  # Not present in input dict\n",
    "        'volume_num': market['volumeNum'],\n",
    "        'end_date_iso': market['endDateIso'],\n",
    "        'start_date_iso': market['startDateIso'],\n",
    "        'has_reviewed_dates': market['hasReviewedDates'],\n",
    "        'uma_bond': market['umaBond'],\n",
    "        'uma_reward': market['umaReward'],\n",
    "        'fpmm_live': False,  # Not present in input dict\n",
    "        'volume_clob': market['volumeClob'],\n",
    "        'accepting_orders': market['acceptingOrders'],\n",
    "        'neg_risk': market['negRisk'],\n",
    "        'neg_risk_market_id': None,  # Not present in input dict\n",
    "        'neg_risk_request_id': None,  # Not present in input dict\n",
    "        'ready': market['ready'],\n",
    "        'funded': market['funded'],\n",
    "        'cyom': market['cyom'],\n",
    "        'pager_duty_notification_enabled': market['pagerDutyNotificationEnabled'],\n",
    "        'approved': market['approved'],\n",
    "    }"
   ]
  },
  {
   "cell_type": "code",
   "execution_count": 28,
   "metadata": {},
   "outputs": [
    {
     "data": {
      "text/plain": [
       "<message_processor.resources.schemas.market.Market at 0x10fd69040>"
      ]
     },
     "execution_count": 28,
     "metadata": {},
     "output_type": "execute_result"
    }
   ],
   "source": [
    "Market(**result_dict)"
   ]
  },
  {
   "cell_type": "markdown",
   "metadata": {},
   "source": [
    "## Create the outcome object"
   ]
  },
  {
   "cell_type": "code",
   "execution_count": 30,
   "metadata": {},
   "outputs": [
    {
     "data": {
      "text/plain": [
       "{'id': '502235',\n",
       " 'question': 'Will Trump appeal his hush money conviction?',\n",
       " 'conditionId': '0xd987b38ecf3bdf4cb69734004c51238875411e0924dd0e9b30e3b31e623c4f00',\n",
       " 'slug': 'will-trump-appeal-his-hush-money-conviction',\n",
       " 'resolutionSource': '',\n",
       " 'endDate': '2024-11-04T12:00:00Z',\n",
       " 'liquidity': '3946.41886',\n",
       " 'startDate': '2024-06-07T21:55:04.893495Z',\n",
       " 'image': 'https://polymarket-upload.s3.us-east-2.amazonaws.com/will-trump-appeal-his-hush-money-conviction-BbLCnGlQL2XJ.png',\n",
       " 'icon': 'https://polymarket-upload.s3.us-east-2.amazonaws.com/will-trump-appeal-his-hush-money-conviction-BbLCnGlQL2XJ.png',\n",
       " 'description': 'This market will resolve to \"Yes\" if Donald J. Trump appeals any or all convictions in his New York hush money case. Otherwise, this market will resolve to \"No\".\\n\\nThis market will resolve to \"No\" if Trump does not file an appeal by the legal deadline for filing his notice of appeal.\\n\\nThe primary resolution source for this market will be official information from the US government, however a consensus of credible reporting will also be used.',\n",
       " 'outcomes': '[\"Yes\", \"No\"]',\n",
       " 'outcomePrices': '[\"0.9205\", \"0.0795\"]',\n",
       " 'volume': '282533.258677',\n",
       " 'active': True,\n",
       " 'closed': False,\n",
       " 'marketMakerAddress': '',\n",
       " 'createdAt': '2024-06-07T21:55:04.893495Z',\n",
       " 'updatedAt': '2025-01-05T15:52:27.66226Z',\n",
       " 'new': False,\n",
       " 'featured': False,\n",
       " 'submitted_by': '0x91430CaD2d3975766499717fA0D66A78D814E5c5',\n",
       " 'archived': False,\n",
       " 'resolvedBy': '0x6A9D222616C90FcA5754cd1333cFD9b7fb6a4F74',\n",
       " 'restricted': True,\n",
       " 'groupItemTitle': '',\n",
       " 'groupItemThreshold': '0',\n",
       " 'questionID': '0x26ce0f41c68cc4b96bfe2b564a60976df0ce9e7e5ecd424434b33333aaddfc75',\n",
       " 'enableOrderBook': True,\n",
       " 'orderPriceMinTickSize': 0.001,\n",
       " 'orderMinSize': 5,\n",
       " 'volumeNum': 282533.258677,\n",
       " 'liquidityNum': 3946.41886,\n",
       " 'endDateIso': '2024-11-04',\n",
       " 'startDateIso': '2024-06-07',\n",
       " 'hasReviewedDates': True,\n",
       " 'volume24hr': 6136.90803,\n",
       " 'clobTokenIds': '[\"54774190602932495681624596813895280541057113822779394733336244613748178149294\", \"46226686344811071373865769241015888474371014887184710566323582300308375002290\"]',\n",
       " 'umaBond': '500',\n",
       " 'umaReward': '5',\n",
       " 'volume24hrClob': 6136.90803,\n",
       " 'volumeClob': 282533.258677,\n",
       " 'liquidityClob': 3946.41886,\n",
       " 'acceptingOrders': True,\n",
       " 'negRisk': False,\n",
       " 'ready': False,\n",
       " 'funded': False,\n",
       " 'acceptingOrdersTimestamp': '2024-06-07T22:11:30Z',\n",
       " 'cyom': False,\n",
       " 'competitive': 0.8497474444376701,\n",
       " 'pagerDutyNotificationEnabled': False,\n",
       " 'approved': True,\n",
       " 'clobRewards': [{'id': '2114',\n",
       "   'conditionId': '0xd987b38ecf3bdf4cb69734004c51238875411e0924dd0e9b30e3b31e623c4f00',\n",
       "   'assetAddress': '0x2791Bca1f2de4661ED88A30C99A7a9449Aa84174',\n",
       "   'rewardsAmount': 0,\n",
       "   'rewardsDailyRate': 10,\n",
       "   'startDate': '2024-06-07',\n",
       "   'endDate': '2500-12-31'}],\n",
       " 'rewardsMinSize': 100,\n",
       " 'rewardsMaxSpread': 3.5,\n",
       " 'spread': 0.001,\n",
       " 'oneDayPriceChange': 0.5615,\n",
       " 'lastTradePrice': 0.92,\n",
       " 'bestBid': 0.92,\n",
       " 'bestAsk': 0.921,\n",
       " 'automaticallyActive': True,\n",
       " 'clearBookOnStart': True,\n",
       " 'manualActivation': False,\n",
       " 'negRiskOther': False}"
      ]
     },
     "execution_count": 30,
     "metadata": {},
     "output_type": "execute_result"
    }
   ],
   "source": [
    "market"
   ]
  },
  {
   "cell_type": "code",
   "execution_count": 51,
   "metadata": {},
   "outputs": [],
   "source": [
    "outcomes_names = json.loads(market['outcomes'])\n",
    "outcomes_prices = json.loads(market['outcomePrices'])\n",
    "outcomes_clob_token_ids = json.loads(market['clobTokenIds'])"
   ]
  },
  {
   "cell_type": "code",
   "execution_count": 54,
   "metadata": {},
   "outputs": [],
   "source": [
    "market_id = market['id']"
   ]
  },
  {
   "cell_type": "code",
   "execution_count": 55,
   "metadata": {},
   "outputs": [],
   "source": [
    "if len(outcomes_names) == len(outcomes_prices) == len(outcomes_clob_token_ids):\n",
    "    for i in range(len(outcomes_names)):\n",
    "        result_dict = {\n",
    "            'name': outcomes_names[i],\n",
    "            'outcome_price': outcomes_prices[i],\n",
    "            'clob_token_id': outcomes_clob_token_ids[i],\n",
    "            'market_id': market_id\n",
    "        }\n",
    "        Outcome(**result_dict)\n",
    "else:\n",
    "    print(\"The lengths of outcomes_names, outcomes_prices, and outcomes_clob_token_ids do not match.\")\n"
   ]
  },
  {
   "cell_type": "markdown",
   "metadata": {},
   "source": [
    "## Create the clob rewards object"
   ]
  },
  {
   "cell_type": "code",
   "execution_count": 60,
   "metadata": {},
   "outputs": [
    {
     "data": {
      "text/plain": [
       "{'id': '2114',\n",
       " 'conditionId': '0xd987b38ecf3bdf4cb69734004c51238875411e0924dd0e9b30e3b31e623c4f00',\n",
       " 'assetAddress': '0x2791Bca1f2de4661ED88A30C99A7a9449Aa84174',\n",
       " 'rewardsAmount': 0,\n",
       " 'rewardsDailyRate': 10,\n",
       " 'startDate': '2024-06-07',\n",
       " 'endDate': '2500-12-31'}"
      ]
     },
     "execution_count": 60,
     "metadata": {},
     "output_type": "execute_result"
    }
   ],
   "source": [
    "reward = market['clobRewards'][0]\n",
    "reward"
   ]
  },
  {
   "cell_type": "code",
   "execution_count": 62,
   "metadata": {},
   "outputs": [
    {
     "data": {
      "text/plain": [
       "<message_processor.resources.schemas.clob_reward.ClobReward at 0x10fc746a0>"
      ]
     },
     "execution_count": 62,
     "metadata": {},
     "output_type": "execute_result"
    }
   ],
   "source": [
    "reward_result_dict = {\n",
    "    'market_id': market_id,\n",
    "    'condition_id': reward['conditionId'],\n",
    "    'asset_address': reward['assetAddress'],\n",
    "    'rewards_amount': reward['rewardsAmount'],\n",
    "    'rewards_daily_rate': reward['rewardsDailyRate'],\n",
    "    'start_date': reward['startDate'],\n",
    "    'end_date': reward['endDate'],\n",
    "}\n",
    "ClobReward(**reward_result_dict)"
   ]
  },
  {
   "cell_type": "markdown",
   "metadata": {},
   "source": [
    "# Test the custom code for it"
   ]
  },
  {
   "cell_type": "code",
   "execution_count": 63,
   "metadata": {},
   "outputs": [],
   "source": [
    "from markets_collector.src.collector import collect_events_objects"
   ]
  },
  {
   "cell_type": "code",
   "execution_count": 65,
   "metadata": {},
   "outputs": [],
   "source": [
    "events_results_list, markets_results_list, outcomes_results_list, clob_rewards_results_list = collect_events_objects()"
   ]
  },
  {
   "cell_type": "code",
   "execution_count": 68,
   "metadata": {},
   "outputs": [],
   "source": [
    "events_objects = [Event(**event_result_dict) for event_result_dict in events_results_list]\n",
    "markets_objects = [Market(**market_result_dict) for market_result_dict in markets_results_list]\n",
    "outcomes_objects = [Outcome(**outcome_result_dict) for outcome_result_dict in outcomes_results_list]\n",
    "clob_rewards_objects = [ClobReward(**clob_reward_result_dict) for clob_reward_result_dict in clob_rewards_results_list]"
   ]
  },
  {
   "cell_type": "code",
   "execution_count": null,
   "metadata": {},
   "outputs": [],
   "source": []
  }
 ],
 "metadata": {
  "kernelspec": {
   "display_name": "Python 3",
   "language": "python",
   "name": "python3"
  },
  "language_info": {
   "codemirror_mode": {
    "name": "ipython",
    "version": 3
   },
   "file_extension": ".py",
   "mimetype": "text/x-python",
   "name": "python",
   "nbconvert_exporter": "python",
   "pygments_lexer": "ipython3",
   "version": "3.9.6"
  }
 },
 "nbformat": 4,
 "nbformat_minor": 2
}
